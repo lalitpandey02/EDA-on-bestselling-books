{
  "nbformat": 4,
  "nbformat_minor": 0,
  "metadata": {
    "colab": {
      "provenance": [],
      "toc_visible": true,
      "authorship_tag": "ABX9TyPau7HG+jGpE8mZhUilUzdh",
      "include_colab_link": true
    },
    "kernelspec": {
      "name": "python3",
      "display_name": "Python 3"
    },
    "language_info": {
      "name": "python"
    }
  },
  "cells": [
    {
      "cell_type": "markdown",
      "metadata": {
        "id": "view-in-github",
        "colab_type": "text"
      },
      "source": [
        "<a href=\"https://colab.research.google.com/github/lalitpandey02/EDA-on-bestselling-books/blob/main/Best_Booksellers_Dataset.ipynb\" target=\"_parent\"><img src=\"https://colab.research.google.com/assets/colab-badge.svg\" alt=\"Open In Colab\"/></a>"
      ]
    },
    {
      "cell_type": "markdown",
      "source": [
        "### **Categorical Feature Analysis**\n",
        "- Univariate analysis - Line Chart, Bar Plot and Histogram\n",
        "- Bivariate Analysis - Scatter Plot, Regression Plot, Stacked Bar, Bivariate line chart\n",
        "- Multivariate Analysis - Scatter Plot, Regression Plot, Stacked Bar, Bivariate line chart, Heat Map"
      ],
      "metadata": {
        "id": "k5WeIxBp3jV1"
      }
    },
    {
      "cell_type": "markdown",
      "source": [
        "### **Numerical Feature Analysis**\n",
        "- Correlation - Scatter Plot and Regression Plot\n",
        "- Trend - Line Chart , Bar plot\n",
        "- Distribution - Bar Plot and Pie Charts"
      ],
      "metadata": {
        "id": "Q1eA6onW4aZA"
      }
    },
    {
      "cell_type": "markdown",
      "source": [
        "## **EDA of Best Book Sellers  Dataset**"
      ],
      "metadata": {
        "id": "iKmGH0Pl5YkP"
      }
    },
    {
      "cell_type": "markdown",
      "source": [
        "---------Questions--------------\n",
        "1. Authors with highest user rating\n",
        "2. Book name with highest and lowest number of reviews\n",
        "3. Book with highest and lowest price\n",
        "4. Year with highest and lowest number of sales\n",
        "5. count of fiction and non-fiction books\n",
        "6. Categorize User Rating\n",
        "7. Price comparision between Non-Fiction and Fiction\n",
        "8. Book Prices with lowest and highest sales"
      ],
      "metadata": {
        "id": "fN7kJK1u5j-X"
      }
    },
    {
      "cell_type": "markdown",
      "source": [
        "## **Study the dataset** "
      ],
      "metadata": {
        "id": "gCkxz02E6RfK"
      }
    },
    {
      "cell_type": "code",
      "source": [],
      "metadata": {
        "id": "5Zgn7Pe05gSx"
      },
      "execution_count": null,
      "outputs": []
    }
  ]
}